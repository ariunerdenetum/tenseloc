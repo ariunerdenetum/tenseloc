{
 "cells": [
  {
   "cell_type": "code",
   "execution_count": 1,
   "id": "33f87d00",
   "metadata": {},
   "outputs": [],
   "source": [
    "import os\n",
    "import pandas as pd\n",
    "from sklearn.linear_model import LogisticRegression\n",
    "from sklearn.metrics import classification_report, accuracy_score"
   ]
  },
  {
   "cell_type": "code",
   "execution_count": 2,
   "id": "05edad19",
   "metadata": {},
   "outputs": [],
   "source": [
    "# Layers to probe\n",
    "LAYERS     = list(range(0, 33))\n",
    "TRAIN_TMPL = \"../results/llama_train_layer{}_features.csv\"\n",
    "TEST_TMPL  = \"../results/llama_test_layer{}_features.csv\"\n",
    "display_labels = ['past','present','future']\n",
    "\n",
    "# grid of C values and output filenames\n",
    "grid = [\n",
    "#     (1e-3, \"probe_detailed_insight_111.csv\"),\n",
    "    (3e-3, \"probe_detailed_insight_11.csv\"),\n",
    "]"
   ]
  },
  {
   "cell_type": "code",
   "execution_count": null,
   "id": "a397d14b",
   "metadata": {},
   "outputs": [
    {
     "name": "stdout",
     "output_type": "stream",
     "text": [
      "Processed L=0\n",
      "Processed L=1\n",
      "Processed L=2\n",
      "Processed L=3\n",
      "Processed L=4\n",
      "Processed L=5\n",
      "Processed L=6\n",
      "Processed L=7\n",
      "Processed L=8\n",
      "Processed L=9\n",
      "Processed L=10\n",
      "Processed L=11\n"
     ]
    }
   ],
   "source": [
    "for C_val, OUT_CSV in grid:\n",
    "    # remove old file if it exists\n",
    "    if os.path.exists(OUT_CSV):\n",
    "        os.remove(OUT_CSV)\n",
    "    \n",
    "    for idx, layer in enumerate(LAYERS):\n",
    "        # load features\n",
    "        df_tr = pd.read_csv(TRAIN_TMPL.format(layer))\n",
    "        df_te = pd.read_csv(TEST_TMPL.format(layer))\n",
    "        \n",
    "        # prepare train/test arrays\n",
    "        feat_cols = [c for c in df_tr.columns if c.startswith('hidden_')]\n",
    "        X_tr, y_tr = df_tr[feat_cols].values, df_tr['label'].values\n",
    "        X_te, y_te = df_te[feat_cols].values, df_te['label'].values\n",
    "        \n",
    "        # grid-search over the two C values for this layer\n",
    "        # here we simply fix C to C_val, but you can replace this with GridSearchCV\n",
    "        probe = LogisticRegression(\n",
    "            penalty='l1',\n",
    "            solver='saga',\n",
    "            C=C_val,\n",
    "            max_iter=100,\n",
    "            n_jobs=7\n",
    "        )\n",
    "        probe.fit(X_tr, y_tr)\n",
    "        y_pred = probe.predict(X_te)\n",
    "        \n",
    "        # overall metrics\n",
    "        rpt = classification_report(\n",
    "            y_te, y_pred,\n",
    "            target_names=display_labels,\n",
    "            output_dict=True,\n",
    "            zero_division=0\n",
    "        )\n",
    "        row = {\n",
    "            'layer':       layer,\n",
    "            'C':           C_val,\n",
    "            'overall_acc': rpt['accuracy'],\n",
    "            'overall_f1':  rpt['macro avg']['f1-score'],\n",
    "            'past':  rpt['past']['f1-score'],\n",
    "            'present':  rpt['present']['f1-score'],\n",
    "            'future':  rpt['future']['f1-score']\n",
    "        }\n",
    "        \n",
    "        # per-language & per-tense metrics\n",
    "        for lang in df_te['language'].unique():\n",
    "            mask = (df_te['language'] == lang)\n",
    "            rpt_l = classification_report(\n",
    "                y_te[mask], y_pred[mask],\n",
    "                target_names=display_labels,\n",
    "                output_dict=True,\n",
    "                zero_division=0\n",
    "            )\n",
    "            row[f'acc_{lang}']         = rpt_l['accuracy']\n",
    "            row[f'f1_{lang}']          = rpt_l['macro avg']['f1-score']\n",
    "            row[f'f1_{lang}_past']     = rpt_l['past']['f1-score']\n",
    "            row[f'f1_{lang}_present']  = rpt_l['present']['f1-score']\n",
    "            row[f'f1_{lang}_future']   = rpt_l['future']['f1-score']\n",
    "        \n",
    "        # write single-row result\n",
    "        df_row = pd.DataFrame([row])\n",
    "        header = (idx == 0)\n",
    "        df_row.to_csv(OUT_CSV, mode='a', header=header, index=False)\n",
    "        print(f\"Processed L={layer}\")\n",
    "    \n",
    "    print(f\"Completed grid C={C_val}, results saved in {OUT_CSV}\")"
   ]
  },
  {
   "cell_type": "code",
   "execution_count": null,
   "id": "8f2c96a5",
   "metadata": {},
   "outputs": [],
   "source": []
  }
 ],
 "metadata": {
  "kernelspec": {
   "display_name": "Python (tense_venv)",
   "language": "python",
   "name": "tense_venv"
  },
  "language_info": {
   "codemirror_mode": {
    "name": "ipython",
    "version": 3
   },
   "file_extension": ".py",
   "mimetype": "text/x-python",
   "name": "python",
   "nbconvert_exporter": "python",
   "pygments_lexer": "ipython3",
   "version": "3.10.4"
  }
 },
 "nbformat": 4,
 "nbformat_minor": 5
}
