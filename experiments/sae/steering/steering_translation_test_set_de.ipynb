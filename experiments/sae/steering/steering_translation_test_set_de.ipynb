{
 "cells": [
  {
   "cell_type": "code",
   "execution_count": 1,
   "id": "56c26c63",
   "metadata": {},
   "outputs": [],
   "source": [
    "import torch\n",
    "from transformers import AutoTokenizer\n",
    "from sae_lens import HookedSAETransformer, SAE\n",
    "from collections import defaultdict\n",
    "import pandas as pd\n",
    "import json\n",
    "from tqdm import tqdm\n",
    "import transformer_lens.utils as utils\n",
    "import csv"
   ]
  },
  {
   "cell_type": "markdown",
   "id": "424cf489",
   "metadata": {},
   "source": [
    "## Setup"
   ]
  },
  {
   "cell_type": "code",
   "execution_count": 2,
   "id": "421ee13b",
   "metadata": {},
   "outputs": [
    {
     "data": {
      "text/plain": [
       "<torch.autograd.grad_mode.set_grad_enabled at 0x145c2b2e1780>"
      ]
     },
     "execution_count": 2,
     "metadata": {},
     "output_type": "execute_result"
    }
   ],
   "source": [
    "MODEL_NAME   = \"meta-llama/Llama-3.1-8B\"\n",
    "HF_TOKEN     = \"...\"\n",
    "FEATURES_CSV = \"./found_features.csv\"\n",
    "DEV_PROMPTS  = \"./prompts_dataset_dev.json\"\n",
    "TEST_PROMPTS = \"./prompts_dataset_test_de.json\"\n",
    "# LAYERS       = [15, 16]\n",
    "LAYERS       = [15, 16]\n",
    "DEVICE       = 'cuda' if torch.cuda.is_available() else 'cpu'\n",
    "\n",
    "# Seed\n",
    "torch.manual_seed(0)\n",
    "torch.set_grad_enabled(False)"
   ]
  },
  {
   "cell_type": "markdown",
   "id": "430a135d",
   "metadata": {},
   "source": [
    "Load Model & Tokenizer"
   ]
  },
  {
   "cell_type": "code",
   "execution_count": 3,
   "id": "760e79ae",
   "metadata": {},
   "outputs": [
    {
     "name": "stderr",
     "output_type": "stream",
     "text": [
      "/auto/brno2/home/ariuka/tense/venv/lib/python3.10/site-packages/transformers/models/auto/auto_factory.py:476: FutureWarning: The `use_auth_token` argument is deprecated and will be removed in v5 of Transformers. Please use `token` instead.\n",
      "  warnings.warn(\n"
     ]
    },
    {
     "data": {
      "application/vnd.jupyter.widget-view+json": {
       "model_id": "6d10bb0b56e34fd887c67a0cc1ab5ead",
       "version_major": 2,
       "version_minor": 0
      },
      "text/plain": [
       "Loading checkpoint shards:   0%|          | 0/4 [00:00<?, ?it/s]"
      ]
     },
     "metadata": {},
     "output_type": "display_data"
    },
    {
     "name": "stderr",
     "output_type": "stream",
     "text": [
      "WARNING:root:You are not using LayerNorm, so the writing weights can't be centered! Skipping\n"
     ]
    },
    {
     "name": "stdout",
     "output_type": "stream",
     "text": [
      "Loaded pretrained model meta-llama/Llama-3.1-8B into HookedTransformer\n",
      "Moving model to device:  cuda\n"
     ]
    }
   ],
   "source": [
    "tokenizer = AutoTokenizer.from_pretrained(MODEL_NAME, token=HF_TOKEN)\n",
    "model = HookedSAETransformer.from_pretrained(\n",
    "    MODEL_NAME, \n",
    "    device_map=\"auto\", \n",
    "    use_auth_token=HF_TOKEN\n",
    ").to(DEVICE)\n",
    "model.eval()\n",
    "\n",
    "if tokenizer.pad_token is None:\n",
    "    # reuse eos_token as pad\n",
    "    tokenizer.pad_token = tokenizer.eos_token"
   ]
  },
  {
   "cell_type": "markdown",
   "id": "5787632b",
   "metadata": {},
   "source": [
    "Load SAEs for each layer and collect feature indices"
   ]
  },
  {
   "cell_type": "code",
   "execution_count": 4,
   "id": "a6d8c321",
   "metadata": {},
   "outputs": [
    {
     "data": {
      "text/plain": [
       "defaultdict(<function __main__.<lambda>()>,\n",
       "            {'past': defaultdict(list,\n",
       "                         {15: [{'feature': 15316, 'alpha': 10.0},\n",
       "                           {'feature': 23112, 'alpha': 7.0},\n",
       "                           {'feature': 28855, 'alpha': 10.0},\n",
       "                           {'feature': 30777, 'alpha': 9.0}],\n",
       "                          16: [{'feature': 1221, 'alpha': 8.0},\n",
       "                           {'feature': 3638, 'alpha': 7.0}]}),\n",
       "             'present': defaultdict(list,\n",
       "                         {15: [{'feature': 5112, 'alpha': 4.0},\n",
       "                           {'feature': 7890, 'alpha': 8.0},\n",
       "                           {'feature': 15706, 'alpha': 6.0},\n",
       "                           {'feature': 26492, 'alpha': 10.0},\n",
       "                           {'feature': 30777, 'alpha': 7.0}],\n",
       "                          16: [{'feature': 3638, 'alpha': 4.0},\n",
       "                           {'feature': 5215, 'alpha': 6.0},\n",
       "                           {'feature': 7895, 'alpha': 9.0},\n",
       "                           {'feature': 9951, 'alpha': 7.0},\n",
       "                           {'feature': 23504, 'alpha': 8.0},\n",
       "                           {'feature': 25624, 'alpha': 3.0}]}),\n",
       "             'future': defaultdict(list,\n",
       "                         {15: [{'feature': 702, 'alpha': 1.5},\n",
       "                           {'feature': 5112, 'alpha': 1.5},\n",
       "                           {'feature': 7890, 'alpha': 3.0},\n",
       "                           {'feature': 12722, 'alpha': 8.0},\n",
       "                           {'feature': 15316, 'alpha': 7.0},\n",
       "                           {'feature': 15706, 'alpha': 2.0},\n",
       "                           {'feature': 23112, 'alpha': 5.0},\n",
       "                           {'feature': 26492, 'alpha': 1.5},\n",
       "                           {'feature': 28855, 'alpha': 2.0},\n",
       "                           {'feature': 30777, 'alpha': 1.5},\n",
       "                           {'feature': 32090, 'alpha': 1.5}],\n",
       "                          16: [{'feature': 1221, 'alpha': 3.0},\n",
       "                           {'feature': 3638, 'alpha': 2.0},\n",
       "                           {'feature': 3689, 'alpha': 5.0},\n",
       "                           {'feature': 5215, 'alpha': 8.0},\n",
       "                           {'feature': 6922, 'alpha': 1.5},\n",
       "                           {'feature': 7895, 'alpha': 9.0},\n",
       "                           {'feature': 9951, 'alpha': 1.5},\n",
       "                           {'feature': 12508, 'alpha': 1.5},\n",
       "                           {'feature': 17716, 'alpha': 1.5},\n",
       "                           {'feature': 23504, 'alpha': 1.5},\n",
       "                           {'feature': 25624, 'alpha': 4.0},\n",
       "                           {'feature': 28602, 'alpha': 2.0},\n",
       "                           {'feature': 32043, 'alpha': 7.0}]})})"
      ]
     },
     "execution_count": 4,
     "metadata": {},
     "output_type": "execute_result"
    }
   ],
   "source": [
    "# Read CSV of chosen features (with columns: label, layer, feature)\n",
    "# dims_map[label][layer] = (features, alpha)\n",
    "df = pd.read_csv(FEATURES_CSV)\n",
    "dims_map = defaultdict(lambda: defaultdict(list))\n",
    "for _, row in df.iterrows():\n",
    "    lbl = row['label']\n",
    "    lyr = int(row['layer'])\n",
    "    feat = int(row['feature'])\n",
    "    alpha = float(row['alpha_amplify'])\n",
    "    dims_map[lbl][lyr].append({'feature': feat, 'alpha': alpha})\n",
    "    \n",
    "dims_map"
   ]
  },
  {
   "cell_type": "code",
   "execution_count": 5,
   "id": "65f47e66",
   "metadata": {},
   "outputs": [
    {
     "name": "stderr",
     "output_type": "stream",
     "text": [
      "/auto/brno2/home/ariuka/tense/venv/lib/python3.10/site-packages/sae_lens/sae.py:151: UserWarning: \n",
      "This SAE has non-empty model_from_pretrained_kwargs. \n",
      "For optimal performance, load the model like so:\n",
      "model = HookedSAETransformer.from_pretrained_no_processing(..., **cfg.model_from_pretrained_kwargs)\n",
      "  warnings.warn(\n"
     ]
    },
    {
     "name": "stdout",
     "output_type": "stream",
     "text": [
      "dict_keys(['blocks.15.hook_resid_post', 'blocks.16.hook_resid_post'])\n"
     ]
    }
   ],
   "source": [
    "# Pre-load SAE modules\n",
    "saes = {}\n",
    "for layer in LAYERS:\n",
    "    hook_name = f\"blocks.{layer}.hook_resid_post\"\n",
    "    sae_module, _, _ = SAE.from_pretrained(\n",
    "        release=\"Yusser/multilingual_llama3.1-8B_saes\",\n",
    "        sae_id=hook_name,\n",
    "        device=DEVICE\n",
    "    )\n",
    "    sae_module.eval()\n",
    "    saes[sae_module.cfg.hook_name] = sae_module\n",
    "\n",
    "print(saes.keys())"
   ]
  },
  {
   "cell_type": "markdown",
   "id": "a0710000",
   "metadata": {},
   "source": [
    "### Helper functions"
   ]
  },
  {
   "cell_type": "code",
   "execution_count": 6,
   "id": "0cecb395",
   "metadata": {},
   "outputs": [],
   "source": [
    "# ScaledSAE wrapper at module scope\n",
    "torch.set_grad_enabled(False)\n",
    "class ScaledSAE(torch.nn.Module):\n",
    "    def __init__(self, base_sae, idxs, alphas, hook):\n",
    "        super().__init__()\n",
    "        self.sae   = base_sae\n",
    "        self.idxs  = idxs\n",
    "        self.alphas = alphas\n",
    "        self.cfg   = base_sae.cfg\n",
    "        self.cfg.hook_name = hook\n",
    "\n",
    "    def forward(self, z):\n",
    "        h = self.sae.encode(z)\n",
    "#         if self.idxs:\n",
    "# #             h[:, :, self.idxs] *= self.alpha\n",
    "#             for i, idx in enumerate(self.idxs):\n",
    "#                 h[:, :, idx] *= self.alpha[i]\n",
    "            \n",
    "        for idx, alpha in zip(self.idxs, self.alphas):\n",
    "            h[:, :, idx] *= alpha\n",
    "            \n",
    "        return self.sae.decode(h)"
   ]
  },
  {
   "cell_type": "code",
   "execution_count": 7,
   "id": "421f0fdf",
   "metadata": {},
   "outputs": [],
   "source": [
    "# Baseline (original LM) evaluation\n",
    "def evaluate_baseline(prompts):\n",
    "    counts, corrects = defaultdict(int), defaultdict(int)\n",
    "    for ex in prompts:\n",
    "        toks = tokenizer(ex['prompt_text'], return_tensors='pt').to(DEVICE)\n",
    "        logits, _ = model.run_with_cache(toks.input_ids)\n",
    "        next_id = logits[0, -1].argmax()\n",
    "        pred = tokenizer.decode(next_id.unsqueeze(0), skip_special_tokens=True).strip()\n",
    "        lbl = ex['gold_tense']\n",
    "        counts[lbl] += 1\n",
    "        if pred and pred[0] == ex['gold_answer']:\n",
    "            corrects[lbl] += 1\n",
    "    return {lbl: corrects[lbl]/counts[lbl] for lbl in counts}\n",
    "\n",
    "# --- Evaluate with run_with_saes (scaling or ablation) ---\n",
    "def evaluate_with_saes(prompts, target_label, layers, alpha_override=None):\n",
    "    counts, corrects = defaultdict(int), defaultdict(int)\n",
    "    # build SAEs list\n",
    "    scaled = []\n",
    "    for lyr in LAYERS:\n",
    "        hook = utils.get_act_name('resid_post', lyr)\n",
    "        base = saes[hook]\n",
    "        \n",
    "        if lyr in layers and target_label in dims_map:\n",
    "            info = dims_map[target_label][lyr]\n",
    "            idxs = [entry['feature'] for entry in info]\n",
    "            if alpha_override is not None:\n",
    "                alphas = [alpha_override]*len(idxs)\n",
    "            else:\n",
    "                alphas = [entry['alpha'] for entry in info]\n",
    "        else:\n",
    "            idxs, alphas = [], []\n",
    "            \n",
    "        scaled.append(ScaledSAE(base, idxs, alphas, hook))\n",
    "        \n",
    "#         if lyr in layers and target_label in dims_map and dims_map[target_label][lyr]:\n",
    "#             feature_info = dims_map[target_label][lyr]\n",
    "#             idxs = [entry['feature'] for entry in feature_info]\n",
    "#             scaled_alpha = [alpha if alpha is not None else entry['alpha'] for entry in feature_info]\n",
    "#         else:\n",
    "#             idxs = []\n",
    "#             scaled_alpha = []\n",
    "#         scaled.append(ScaledSAE(base, idxs, scaled_alpha, hook))\n",
    "        \n",
    "#         if lyr in layers and target_label in dims_map and dims_map[target_label][lyr]['features']:\n",
    "#             idxs = dims_map[target_label][lyr]['features']\n",
    "#             scaled_alpha = alpha if alpha is not None else dims_map[target_label][lyr]['alpha']\n",
    "#         else:\n",
    "#             idxs = []\n",
    "#             scaled_alpha = 1.0\n",
    "#         scaled.append(ScaledSAE(base, idxs, scaled_alpha, hook))\n",
    "\n",
    "    with torch.no_grad():\n",
    "        for ex in prompts:\n",
    "            toks = tokenizer(ex['prompt_text'], return_tensors='pt', padding=True).to(DEVICE)\n",
    "            logits = model.run_with_saes(toks.input_ids, saes=scaled)\n",
    "            next_id = logits[0, -1].argmax()\n",
    "            pred = tokenizer.decode(next_id.unsqueeze(0), skip_special_tokens=True).strip()\n",
    "            lbl = ex['gold_tense']\n",
    "            counts[lbl] += 1\n",
    "            if pred and pred[0] == ex['gold_answer']:\n",
    "                corrects[lbl] += 1\n",
    "    return {lbl: corrects[lbl]/counts[lbl] for lbl in counts}\n",
    "\n",
    "# Wrapper to run different settings\n",
    "def run_it(mode, layers, alpha, prompts):\n",
    "    results = []\n",
    "    if mode == 'baseline_orig':\n",
    "        acc = evaluate_baseline(prompts)\n",
    "        results.append({\n",
    "            'setting': mode, \n",
    "            'layers': '', \n",
    "            'alpha': '', \n",
    "            'target_label': '',\n",
    "            **{f'accuracy_{k}':v for k,v in acc.items()}\n",
    "        })\n",
    "    elif mode == 'baseline_saes':\n",
    "        acc = evaluate_with_saes(prompts, None, [], 1.0)\n",
    "        results.append({\n",
    "            'setting': mode, \n",
    "            'layers': layers, \n",
    "            'alpha': '', \n",
    "            'target_label': '',\n",
    "            **{f'accuracy_{k}':v for k,v in acc.items()}\n",
    "        })\n",
    "    else:\n",
    "        for lbl in dims_map:\n",
    "            acc = evaluate_with_saes(prompts, lbl, layers, alpha)\n",
    "            results.append({\n",
    "                'setting': mode, \n",
    "                'layers': layers, \n",
    "                'alpha': alpha, \n",
    "                'target_label': lbl,\n",
    "                **{f'accuracy_{k}':v for k,v in acc.items()}\n",
    "            })\n",
    "    return results\n",
    "\n",
    "# Load test prompts\n",
    "def load_prompts(path):\n",
    "    return json.load(open(path))"
   ]
  },
  {
   "cell_type": "markdown",
   "id": "ed9bbbbd",
   "metadata": {},
   "source": [
    "## Demo test on dev set before test set"
   ]
  },
  {
   "cell_type": "code",
   "execution_count": 8,
   "id": "ef10b3a7",
   "metadata": {},
   "outputs": [],
   "source": [
    "prompts = load_prompts(DEV_PROMPTS)"
   ]
  },
  {
   "cell_type": "markdown",
   "id": "2471d53c",
   "metadata": {},
   "source": [
    "### Test set (aaaaaaaaaaaaaaa)"
   ]
  },
  {
   "cell_type": "code",
   "execution_count": 9,
   "id": "b1266bd9",
   "metadata": {},
   "outputs": [],
   "source": [
    "prompts    = load_prompts(TEST_PROMPTS)\n",
    "OUTPUT_CSV = \"evaluation_results_de.csv\"\n",
    "fieldnames = ['setting','layers','alpha','target_label',\n",
    "              'accuracy_past','accuracy_present','accuracy_future']"
   ]
  },
  {
   "cell_type": "code",
   "execution_count": 12,
   "id": "11efef20",
   "metadata": {},
   "outputs": [
    {
     "name": "stdout",
     "output_type": "stream",
     "text": [
      "Done, phew, results saved to evaluation_results_de.csv\n"
     ]
    }
   ],
   "source": [
    "with open(OUTPUT_CSV, 'w', newline='') as f:\n",
    "    writer = csv.DictWriter(f, fieldnames=fieldnames)\n",
    "    writer.writeheader()\n",
    "\n",
    "    # Baselines\n",
    "    for row in run_it('baseline_orig', [],     None, prompts):\n",
    "        writer.writerow(row)\n",
    "    for row in run_it('baseline_saes', [],     1.0,  prompts):\n",
    "        writer.writerow(row)\n",
    "\n",
    "#     # Amplified\n",
    "#     for layers in ([15], [16], [15,16]):\n",
    "#         results = run_it('amplified', layers, None, prompts)\n",
    "#         for row in results:\n",
    "#             writer.writerow(row)\n",
    "\n",
    "#     # Weakened (0.0)\n",
    "#     for layers in ([15], [16], [15,16]):\n",
    "#         results = run_it('weakened', layers, 0.0, prompts)\n",
    "#         for row in results:\n",
    "#             writer.writerow(row)\n",
    "\n",
    "#     # Weakened (0.5)\n",
    "#     for layers in ([15], [16], [15,16]):\n",
    "#         results = run_it('weakened', layers, 0.5, prompts)\n",
    "#         for row in results:\n",
    "#             writer.writerow(row)\n",
    "\n",
    "print(\"Done, phew, results saved to\", OUTPUT_CSV)"
   ]
  },
  {
   "cell_type": "code",
   "execution_count": 13,
   "id": "bfce2c89",
   "metadata": {},
   "outputs": [
    {
     "name": "stdout",
     "output_type": "stream",
     "text": [
      "Done, phew, results saved to evaluation_results_de.csv\n"
     ]
    }
   ],
   "source": [
    "with open(OUTPUT_CSV, 'a', newline='') as f:\n",
    "    writer = csv.DictWriter(f, fieldnames=fieldnames)\n",
    "\n",
    "    # Amplified\n",
    "    for layers in ([15], [16], [15,16]):\n",
    "        results = run_it('amplified', layers, 5.0, prompts)\n",
    "        for row in results:\n",
    "            writer.writerow(row)\n",
    "\n",
    "print(\"Done, phew, results saved to\", OUTPUT_CSV)"
   ]
  },
  {
   "cell_type": "code",
   "execution_count": 14,
   "id": "0ae3e7e5",
   "metadata": {},
   "outputs": [
    {
     "name": "stdout",
     "output_type": "stream",
     "text": [
      "Done, phew, results saved to evaluation_results_de.csv\n"
     ]
    }
   ],
   "source": [
    "with open(OUTPUT_CSV, 'a', newline='') as f:\n",
    "    writer = csv.DictWriter(f, fieldnames=fieldnames)\n",
    "\n",
    "    # Amplified\n",
    "    for layers in ([15], [16], [15,16]):\n",
    "        results = run_it('amplified', layers, 10.0, prompts)\n",
    "        for row in results:\n",
    "            writer.writerow(row)\n",
    "\n",
    "print(\"Done, phew, results saved to\", OUTPUT_CSV)"
   ]
  },
  {
   "cell_type": "code",
   "execution_count": 10,
   "id": "213afba2",
   "metadata": {},
   "outputs": [
    {
     "name": "stdout",
     "output_type": "stream",
     "text": [
      "Done, phew, results saved to evaluation_results_de.csv\n"
     ]
    }
   ],
   "source": [
    "with open(OUTPUT_CSV, 'a', newline='') as f:\n",
    "    writer = csv.DictWriter(f, fieldnames=fieldnames)\n",
    "\n",
    "    # Amplified\n",
    "    for layers in ([15], [16], [15,16]):\n",
    "        results = run_it('amplified', layers, 2.0, prompts)\n",
    "        for row in results:\n",
    "            writer.writerow(row)\n",
    "\n",
    "print(\"Done, phew, results saved to\", OUTPUT_CSV)"
   ]
  },
  {
   "cell_type": "code",
   "execution_count": 11,
   "id": "e667c5a2",
   "metadata": {},
   "outputs": [
    {
     "name": "stdout",
     "output_type": "stream",
     "text": [
      "Done, phew, results saved to evaluation_results_de.csv\n"
     ]
    }
   ],
   "source": [
    "with open(OUTPUT_CSV, 'a', newline='') as f:\n",
    "    writer = csv.DictWriter(f, fieldnames=fieldnames)\n",
    "\n",
    "    # Amplified\n",
    "    for layers in ([15], [16], [15,16]):\n",
    "        results = run_it('weakened', layers, 0.1, prompts)\n",
    "        for row in results:\n",
    "            writer.writerow(row)\n",
    "\n",
    "print(\"Done, phew, results saved to\", OUTPUT_CSV)"
   ]
  },
  {
   "cell_type": "code",
   "execution_count": 12,
   "id": "0ad95b8b",
   "metadata": {},
   "outputs": [
    {
     "name": "stdout",
     "output_type": "stream",
     "text": [
      "Done, phew, results saved to evaluation_results_de.csv\n"
     ]
    }
   ],
   "source": [
    "with open(OUTPUT_CSV, 'a', newline='') as f:\n",
    "    writer = csv.DictWriter(f, fieldnames=fieldnames)\n",
    "\n",
    "    # Amplified\n",
    "    for layers in ([15], [16], [15,16]):\n",
    "        results = run_it('weakened', layers, 0, prompts)\n",
    "        for row in results:\n",
    "            writer.writerow(row)\n",
    "\n",
    "print(\"Done, phew, results saved to\", OUTPUT_CSV)"
   ]
  },
  {
   "cell_type": "markdown",
   "id": "f29e5066",
   "metadata": {},
   "source": [
    "## Visualization"
   ]
  },
  {
   "cell_type": "code",
   "execution_count": 13,
   "id": "0f7d4ae2",
   "metadata": {},
   "outputs": [],
   "source": [
    "import seaborn as sns\n",
    "import matplotlib.pyplot as plt"
   ]
  },
  {
   "cell_type": "code",
   "execution_count": 14,
   "id": "7dd6fd40",
   "metadata": {},
   "outputs": [],
   "source": [
    "# 1. Load & melt\n",
    "df = pd.read_csv('evaluation_results_de.csv')\n",
    "long = df.melt(\n",
    "    id_vars=['setting','target_label','alpha','layers'],\n",
    "    value_vars=['accuracy_past','accuracy_present','accuracy_future'],\n",
    "    var_name='tense',\n",
    "    value_name='accuracy'\n",
    ")\n",
    "long['tense'] = long['tense'].str.replace('accuracy_','')"
   ]
  },
  {
   "cell_type": "code",
   "execution_count": 15,
   "id": "398086bc",
   "metadata": {},
   "outputs": [],
   "source": [
    "# 2. Build condition strings including α and layers\n",
    "def make_cond(row):\n",
    "    if row['setting'] == 'baseline_orig':\n",
    "        return 'baseline'\n",
    "    if row['setting'] == 'baseline_saes':\n",
    "        return 'α=1.0 / L15_16'\n",
    "    # rows for amplified/weakened\n",
    "    layers_str = str(row['layers']).strip('[]').replace(' ','').replace(',','_')\n",
    "#     return f\"{row['setting']}/α={row['alpha']}/L{layers_str}\"\n",
    "    return f\"α={row['alpha']} / L{layers_str}\"\n",
    "\n",
    "long['cond'] = long.apply(make_cond, axis=1)\n",
    "\n",
    "# 3. Define masks\n",
    "mask_base = long['setting'].isin(['baseline_orig','baseline_saes'])\n",
    "\n",
    "# for amplified @ α=5.0 on each layer‐combination\n",
    "mask_amp_15    = (\n",
    "    (long['setting']=='amplified') &\n",
    "    (long['alpha']==5.0) &\n",
    "    (long['layers']=='[15]') &\n",
    "    (long['tense']==long['target_label'])\n",
    ")\n",
    "mask_amp_16    = (\n",
    "    (long['setting']=='amplified') &\n",
    "    (long['alpha']==5.0) &\n",
    "    (long['layers']=='[16]') &\n",
    "    (long['tense']==long['target_label'])\n",
    ")\n",
    "mask_amp_15_16 = (\n",
    "    (long['setting']=='amplified') &\n",
    "    (long['alpha']==5.0) &\n",
    "    (long['layers']=='[15, 16]') &\n",
    "    (long['tense']==long['target_label'])\n",
    ")\n",
    "\n",
    "# for weakened @ α=0.0 on each layer‐combination\n",
    "mask_weak_15    = (\n",
    "    (long['setting']=='weakened') &\n",
    "    (long['alpha']==0.0)  &\n",
    "    (long['layers']=='[15]') &\n",
    "    (long['tense']==long['target_label'])\n",
    ")\n",
    "mask_weak_16    = (\n",
    "    (long['setting']=='weakened') &\n",
    "    (long['alpha']==0.0)  &\n",
    "    (long['layers']=='[16]') &\n",
    "    (long['tense']==long['target_label'])\n",
    ")\n",
    "mask_weak_15_16 = (\n",
    "    (long['setting']=='weakened') &\n",
    "    (long['alpha']==0.0)  &\n",
    "    (long['layers']=='[15, 16]') &\n",
    "    (long['tense']==long['target_label'])\n",
    ")\n",
    "\n",
    "filtered = long[\n",
    "    mask_base\n",
    "    | mask_amp_15    | mask_amp_16    | mask_amp_15_16\n",
    "    | mask_weak_15   | mask_weak_16   | mask_weak_15_16\n",
    "]"
   ]
  },
  {
   "cell_type": "code",
   "execution_count": 16,
   "id": "f50a9fbc",
   "metadata": {},
   "outputs": [
    {
     "data": {
      "image/png": "[encoded data removed]",
      "text/plain": [
       "<Figure size 1000x400 with 1 Axes>"
      ]
     },
     "metadata": {},
     "output_type": "display_data"
    }
   ],
   "source": [
    "# 4. Explicit hue order\n",
    "hue_order = [\n",
    "    'baseline',\n",
    "    'α=1.0 / L15_16',\n",
    "    'α=5.0 / L15',\n",
    "    'α=5.0 / L16',\n",
    "    'α=5.0 / L15_16',\n",
    "    'α=0.0 / L15',\n",
    "    'α=0.0 / L16',\n",
    "    'α=0.0 / L15_16',\n",
    "]\n",
    "\n",
    "# 4. Plot\n",
    "sns.set_style('whitegrid')\n",
    "plt.figure(figsize=(10,4))\n",
    "sns.barplot(\n",
    "    data=filtered,\n",
    "    x='tense',\n",
    "    y='accuracy',\n",
    "    hue='cond',\n",
    "    hue_order = hue_order,\n",
    "    palette='Paired',\n",
    "    errorbar=None\n",
    ")\n",
    "# plt.ylim(0,1)\n",
    "plt.xlabel('Tense')\n",
    "plt.ylabel('Accuracy')\n",
    "plt.legend(title='Condition', bbox_to_anchor=(1,1))\n",
    "plt.tight_layout()\n",
    "plt.show()"
   ]
  },
  {
   "cell_type": "code",
   "execution_count": null,
   "id": "081d8c00",
   "metadata": {},
   "outputs": [],
   "source": []
  }
 ],
 "metadata": {
  "kernelspec": {
   "display_name": "Python (tense_venv)",
   "language": "python",
   "name": "tense_venv"
  },
  "language_info": {
   "codemirror_mode": {
    "name": "ipython",
    "version": 3
   },
   "file_extension": ".py",
   "mimetype": "text/x-python",
   "name": "python",
   "nbconvert_exporter": "python",
   "pygments_lexer": "ipython3",
   "version": "3.10.4"
  }
 },
 "nbformat": 4,
 "nbformat_minor": 5
}
