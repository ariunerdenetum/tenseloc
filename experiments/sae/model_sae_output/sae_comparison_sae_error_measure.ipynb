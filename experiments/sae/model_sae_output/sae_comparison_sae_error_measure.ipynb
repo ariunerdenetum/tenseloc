{
 "cells": [
  {
   "cell_type": "code",
   "execution_count": 1,
   "id": "9bbba839",
   "metadata": {},
   "outputs": [],
   "source": [
    "import os\n",
    "import pandas as pd\n",
    "import numpy as np\n",
    "import torch\n",
    "from sae_lens import SAE\n",
    "import matplotlib.pyplot as plt\n",
    "import seaborn as sns\n",
    "from matplotlib.ticker import MaxNLocator\n",
    "import csv"
   ]
  },
  {
   "cell_type": "markdown",
   "id": "efc75cf5",
   "metadata": {},
   "source": [
    "### Configuration"
   ]
  },
  {
   "cell_type": "code",
   "execution_count": 2,
   "id": "c3d858d0",
   "metadata": {},
   "outputs": [
    {
     "data": {
      "text/plain": [
       "<torch.autograd.grad_mode.set_grad_enabled at 0x149954d30f40>"
      ]
     },
     "execution_count": 2,
     "metadata": {},
     "output_type": "execute_result"
    }
   ],
   "source": [
    "device = \"cuda\" if torch.cuda.is_available() else \"cpu\"\n",
    "\n",
    "data_dir = './model_outputs'\n",
    "output_dir = './latent_outputs'\n",
    "metrics_path = os.path.join('./sae_error_metrics_llamascope.csv')\n",
    "labels = ['past', 'present', 'future']\n",
    "streams = {\n",
    "    'residual': 'r',        # post-MLP residual stream\n",
    "    'mlp': 'm',             # MLP output\n",
    "    'attention': 'a'        # layer attention output\n",
    "}\n",
    "widths = ['8x']\n",
    "layers = range(14,32)\n",
    "\n",
    "os.makedirs(output_dir, exist_ok=True)\n",
    "\n",
    "torch.manual_seed(0)\n",
    "np.random.seed(0)\n",
    "torch.set_grad_enabled(False)"
   ]
  },
  {
   "cell_type": "markdown",
   "id": "29899cb4",
   "metadata": {},
   "source": [
    "### Helper"
   ]
  },
  {
   "cell_type": "code",
   "execution_count": 6,
   "id": "81ad9f00",
   "metadata": {},
   "outputs": [],
   "source": [
    "# Helper to load embeddings for a given stream\n",
    "def load_embeddings(label, layer, stream_name):\n",
    "    path = os.path.join(\n",
    "        data_dir,\n",
    "        f'llama_train_layer{layer}_{stream_name}.parquet'\n",
    "    )\n",
    "    df = pd.read_parquet(path)\n",
    "    df = df[df['tense'] == label]  # Filter by label\n",
    "    cols = [c for c in df.columns if c.startswith(f'{stream_name}_')]\n",
    "    emb = torch.tensor(df[cols].values, dtype=torch.float32)\n",
    "    # reshape to [N,1,d] to match SAE expected input\n",
    "    # [N, d] -> [N, 1, d] to match [batch, seq_len, dim]\n",
    "    emb = emb.unsqueeze(1)\n",
    "    return emb, df"
   ]
  },
  {
   "cell_type": "markdown",
   "id": "094d0a75",
   "metadata": {},
   "source": [
    "### Error measure"
   ]
  },
  {
   "cell_type": "code",
   "execution_count": 7,
   "id": "9619812c",
   "metadata": {},
   "outputs": [
    {
     "name": "stdout",
     "output_type": "stream",
     "text": [
      "Processing label=past, stream=residual, layer=14, width=8x\n",
      "Processing label=past, stream=residual, layer=15, width=8x\n",
      "Processing label=past, stream=residual, layer=16, width=8x\n",
      "Processing label=past, stream=residual, layer=17, width=8x\n",
      "Processing label=past, stream=residual, layer=18, width=8x\n",
      "Processing label=past, stream=residual, layer=19, width=8x\n",
      "Processing label=past, stream=residual, layer=20, width=8x\n",
      "Processing label=past, stream=residual, layer=21, width=8x\n",
      "Processing label=past, stream=residual, layer=22, width=8x\n",
      "Processing label=past, stream=residual, layer=23, width=8x\n",
      "Processing label=past, stream=residual, layer=24, width=8x\n",
      "Processing label=past, stream=residual, layer=25, width=8x\n",
      "Processing label=past, stream=residual, layer=26, width=8x\n",
      "Processing label=past, stream=residual, layer=27, width=8x\n",
      "Processing label=past, stream=residual, layer=28, width=8x\n",
      "Processing label=past, stream=residual, layer=29, width=8x\n",
      "Processing label=past, stream=residual, layer=30, width=8x\n",
      "Processing label=past, stream=residual, layer=31, width=8x\n",
      "Processing label=past, stream=mlp, layer=14, width=8x\n",
      "Processing label=past, stream=mlp, layer=15, width=8x\n",
      "Processing label=past, stream=mlp, layer=16, width=8x\n",
      "Processing label=past, stream=mlp, layer=17, width=8x\n",
      "Processing label=past, stream=mlp, layer=18, width=8x\n",
      "Processing label=past, stream=mlp, layer=19, width=8x\n",
      "Processing label=past, stream=mlp, layer=20, width=8x\n",
      "Processing label=past, stream=mlp, layer=21, width=8x\n",
      "Processing label=past, stream=mlp, layer=22, width=8x\n",
      "Processing label=past, stream=mlp, layer=23, width=8x\n",
      "Processing label=past, stream=mlp, layer=24, width=8x\n",
      "Processing label=past, stream=mlp, layer=25, width=8x\n",
      "Processing label=past, stream=mlp, layer=26, width=8x\n",
      "Processing label=past, stream=mlp, layer=27, width=8x\n",
      "Processing label=past, stream=mlp, layer=28, width=8x\n",
      "Processing label=past, stream=mlp, layer=29, width=8x\n",
      "Processing label=past, stream=mlp, layer=30, width=8x\n",
      "Processing label=past, stream=mlp, layer=31, width=8x\n",
      "Processing label=past, stream=attention, layer=14, width=8x\n",
      "Processing label=past, stream=attention, layer=15, width=8x\n",
      "Processing label=past, stream=attention, layer=16, width=8x\n",
      "Processing label=past, stream=attention, layer=17, width=8x\n",
      "Processing label=past, stream=attention, layer=18, width=8x\n",
      "Processing label=past, stream=attention, layer=19, width=8x\n",
      "Processing label=past, stream=attention, layer=20, width=8x\n",
      "Processing label=past, stream=attention, layer=21, width=8x\n",
      "Processing label=past, stream=attention, layer=22, width=8x\n",
      "Processing label=past, stream=attention, layer=23, width=8x\n",
      "Processing label=past, stream=attention, layer=24, width=8x\n",
      "Processing label=past, stream=attention, layer=25, width=8x\n",
      "Processing label=past, stream=attention, layer=26, width=8x\n",
      "Processing label=past, stream=attention, layer=27, width=8x\n",
      "Processing label=past, stream=attention, layer=28, width=8x\n",
      "Processing label=past, stream=attention, layer=29, width=8x\n",
      "Processing label=past, stream=attention, layer=30, width=8x\n",
      "Processing label=past, stream=attention, layer=31, width=8x\n",
      "Processing label=present, stream=residual, layer=14, width=8x\n",
      "Processing label=present, stream=residual, layer=15, width=8x\n",
      "Processing label=present, stream=residual, layer=16, width=8x\n",
      "Processing label=present, stream=residual, layer=17, width=8x\n",
      "Processing label=present, stream=residual, layer=18, width=8x\n",
      "Processing label=present, stream=residual, layer=19, width=8x\n",
      "Processing label=present, stream=residual, layer=20, width=8x\n",
      "Processing label=present, stream=residual, layer=21, width=8x\n",
      "Processing label=present, stream=residual, layer=22, width=8x\n",
      "Processing label=present, stream=residual, layer=23, width=8x\n",
      "Processing label=present, stream=residual, layer=24, width=8x\n",
      "Processing label=present, stream=residual, layer=25, width=8x\n",
      "Processing label=present, stream=residual, layer=26, width=8x\n",
      "Processing label=present, stream=residual, layer=27, width=8x\n",
      "Processing label=present, stream=residual, layer=28, width=8x\n",
      "Processing label=present, stream=residual, layer=29, width=8x\n",
      "Processing label=present, stream=residual, layer=30, width=8x\n",
      "Processing label=present, stream=residual, layer=31, width=8x\n",
      "Processing label=present, stream=mlp, layer=14, width=8x\n",
      "Processing label=present, stream=mlp, layer=15, width=8x\n",
      "Processing label=present, stream=mlp, layer=16, width=8x\n",
      "Processing label=present, stream=mlp, layer=17, width=8x\n",
      "Processing label=present, stream=mlp, layer=18, width=8x\n",
      "Processing label=present, stream=mlp, layer=19, width=8x\n",
      "Processing label=present, stream=mlp, layer=20, width=8x\n",
      "Processing label=present, stream=mlp, layer=21, width=8x\n",
      "Processing label=present, stream=mlp, layer=22, width=8x\n",
      "Processing label=present, stream=mlp, layer=23, width=8x\n",
      "Processing label=present, stream=mlp, layer=24, width=8x\n",
      "Processing label=present, stream=mlp, layer=25, width=8x\n",
      "Processing label=present, stream=mlp, layer=26, width=8x\n",
      "Processing label=present, stream=mlp, layer=27, width=8x\n",
      "Processing label=present, stream=mlp, layer=28, width=8x\n",
      "Processing label=present, stream=mlp, layer=29, width=8x\n",
      "Processing label=present, stream=mlp, layer=30, width=8x\n",
      "Processing label=present, stream=mlp, layer=31, width=8x\n",
      "Processing label=present, stream=attention, layer=14, width=8x\n",
      "Processing label=present, stream=attention, layer=15, width=8x\n",
      "Processing label=present, stream=attention, layer=16, width=8x\n",
      "Processing label=present, stream=attention, layer=17, width=8x\n",
      "Processing label=present, stream=attention, layer=18, width=8x\n",
      "Processing label=present, stream=attention, layer=19, width=8x\n",
      "Processing label=present, stream=attention, layer=20, width=8x\n",
      "Processing label=present, stream=attention, layer=21, width=8x\n",
      "Processing label=present, stream=attention, layer=22, width=8x\n",
      "Processing label=present, stream=attention, layer=23, width=8x\n",
      "Processing label=present, stream=attention, layer=24, width=8x\n",
      "Processing label=present, stream=attention, layer=25, width=8x\n",
      "Processing label=present, stream=attention, layer=26, width=8x\n",
      "Processing label=present, stream=attention, layer=27, width=8x\n",
      "Processing label=present, stream=attention, layer=28, width=8x\n",
      "Processing label=present, stream=attention, layer=29, width=8x\n",
      "Processing label=present, stream=attention, layer=30, width=8x\n",
      "Processing label=present, stream=attention, layer=31, width=8x\n",
      "Processing label=future, stream=residual, layer=14, width=8x\n",
      "Processing label=future, stream=residual, layer=15, width=8x\n",
      "Processing label=future, stream=residual, layer=16, width=8x\n",
      "Processing label=future, stream=residual, layer=17, width=8x\n",
      "Processing label=future, stream=residual, layer=18, width=8x\n",
      "Processing label=future, stream=residual, layer=19, width=8x\n",
      "Processing label=future, stream=residual, layer=20, width=8x\n",
      "Processing label=future, stream=residual, layer=21, width=8x\n",
      "Processing label=future, stream=residual, layer=22, width=8x\n",
      "Processing label=future, stream=residual, layer=23, width=8x\n",
      "Processing label=future, stream=residual, layer=24, width=8x\n",
      "Processing label=future, stream=residual, layer=25, width=8x\n",
      "Processing label=future, stream=residual, layer=26, width=8x\n",
      "Processing label=future, stream=residual, layer=27, width=8x\n",
      "Processing label=future, stream=residual, layer=28, width=8x\n",
      "Processing label=future, stream=residual, layer=29, width=8x\n",
      "Processing label=future, stream=residual, layer=30, width=8x\n",
      "Processing label=future, stream=residual, layer=31, width=8x\n",
      "Processing label=future, stream=mlp, layer=14, width=8x\n",
      "Processing label=future, stream=mlp, layer=15, width=8x\n",
      "Processing label=future, stream=mlp, layer=16, width=8x\n",
      "Processing label=future, stream=mlp, layer=17, width=8x\n",
      "Processing label=future, stream=mlp, layer=18, width=8x\n",
      "Processing label=future, stream=mlp, layer=19, width=8x\n",
      "Processing label=future, stream=mlp, layer=20, width=8x\n",
      "Processing label=future, stream=mlp, layer=21, width=8x\n",
      "Processing label=future, stream=mlp, layer=22, width=8x\n",
      "Processing label=future, stream=mlp, layer=23, width=8x\n",
      "Processing label=future, stream=mlp, layer=24, width=8x\n",
      "Processing label=future, stream=mlp, layer=25, width=8x\n",
      "Processing label=future, stream=mlp, layer=26, width=8x\n",
      "Processing label=future, stream=mlp, layer=27, width=8x\n",
      "Processing label=future, stream=mlp, layer=28, width=8x\n",
      "Processing label=future, stream=mlp, layer=29, width=8x\n",
      "Processing label=future, stream=mlp, layer=30, width=8x\n",
      "Processing label=future, stream=mlp, layer=31, width=8x\n",
      "Processing label=future, stream=attention, layer=14, width=8x\n",
      "Processing label=future, stream=attention, layer=15, width=8x\n",
      "Processing label=future, stream=attention, layer=16, width=8x\n",
      "Processing label=future, stream=attention, layer=17, width=8x\n",
      "Processing label=future, stream=attention, layer=18, width=8x\n",
      "Processing label=future, stream=attention, layer=19, width=8x\n",
      "Processing label=future, stream=attention, layer=20, width=8x\n",
      "Processing label=future, stream=attention, layer=21, width=8x\n",
      "Processing label=future, stream=attention, layer=22, width=8x\n",
      "Processing label=future, stream=attention, layer=23, width=8x\n",
      "Processing label=future, stream=attention, layer=24, width=8x\n",
      "Processing label=future, stream=attention, layer=25, width=8x\n",
      "Processing label=future, stream=attention, layer=26, width=8x\n",
      "Processing label=future, stream=attention, layer=27, width=8x\n",
      "Processing label=future, stream=attention, layer=28, width=8x\n",
      "Processing label=future, stream=attention, layer=29, width=8x\n",
      "Processing label=future, stream=attention, layer=30, width=8x\n",
      "Processing label=future, stream=attention, layer=31, width=8x\n"
     ]
    }
   ],
   "source": [
    "# Container for metrics\n",
    "data_records = []\n",
    "\n",
    "for label in labels:\n",
    "    for stream_name, stream_code in streams.items():\n",
    "        for layer in layers:\n",
    "            for width in widths:\n",
    "                print(f\"Processing label={label}, stream={stream_name}, layer={layer}, width={width}\")\n",
    "                try:\n",
    "                    embeddings, metadata = load_embeddings(label, layer, stream_name)\n",
    "                except FileNotFoundError:\n",
    "                    print(f\"Missing file for {label}, {stream_name}, layer {layer}\")\n",
    "                    continue\n",
    "\n",
    "                # Load pretrained SAE\n",
    "                sae_id = f'l{layer}{stream_code}_{width}'\n",
    "                sae, cfg_dict, sparsity = SAE.from_pretrained(\n",
    "                    release=f'llama_scope_lx{stream_code}_{width}',\n",
    "                    sae_id=sae_id,\n",
    "                    device=device\n",
    "                )\n",
    "                sae.eval()\n",
    "\n",
    "                # Encode and decode\n",
    "                with torch.no_grad():\n",
    "                    feature_acts = sae.encode(embeddings.to(device))\n",
    "                    sae_out = sae.decode(feature_acts)\n",
    "\n",
    "                # Move to CPU for metric computation\n",
    "                x = embeddings.to(torch.float32).cpu()\n",
    "                x_hat = sae_out.to(torch.float32).cpu()\n",
    "\n",
    "                # Compute MSE per example\n",
    "                mse_per_example = (x_hat - x).pow(2).mean(dim=[1,2])\n",
    "                mse = mse_per_example.mean().item()\n",
    "                rmse = mse ** 0.5\n",
    "\n",
    "                # Compute FVU\n",
    "                # total variance (MSE of predicting mean)\n",
    "                mean_act = x.mean(dim=[0,1], keepdim=True)\n",
    "                mse_mean = (x - mean_act).pow(2).mean().item()\n",
    "                fvu = mse / mse_mean if mse_mean > 0 else float('nan')\n",
    "\n",
    "                # Record metrics\n",
    "                data_records.append({\n",
    "                    'label': label,\n",
    "                    'stream': stream_name,\n",
    "                    'layer': layer,\n",
    "                    'width': width,\n",
    "                    'mse': mse,\n",
    "                    'rmse': rmse,\n",
    "                    'fvu': fvu\n",
    "                })"
   ]
  },
  {
   "cell_type": "markdown",
   "id": "1f5da57f",
   "metadata": {},
   "source": [
    "- Llama Scope"
   ]
  },
  {
   "cell_type": "code",
   "execution_count": 8,
   "id": "489f3f6f",
   "metadata": {},
   "outputs": [
    {
     "name": "stdout",
     "output_type": "stream",
     "text": [
      "Saved error metrics to ./sae_error_metrics_llamascope.csv\n"
     ]
    }
   ],
   "source": [
    "# Save metrics to CSV\n",
    "metrics_df = pd.DataFrame(data_records)\n",
    "metrics_df.to_csv(metrics_path, index=False)\n",
    "print(f\"Saved error metrics to {metrics_path}\")"
   ]
  },
  {
   "cell_type": "markdown",
   "id": "b7f64ad2",
   "metadata": {},
   "source": [
    "- Translation"
   ]
  },
  {
   "cell_type": "code",
   "execution_count": 9,
   "id": "85f9e84a",
   "metadata": {},
   "outputs": [],
   "source": [
    "metrics_path = os.path.join('./sae_error_metrics_translation.csv')\n",
    "labels = [\"future\"]\n",
    "streams = {\n",
    "    'residual': 'resid_post',        # post-MLP residual stream\n",
    "    'mlp': 'mlp_out',                # MLP output\n",
    "    'attention': 'attn_out'          # layer attention output\n",
    "}"
   ]
  },
  {
   "cell_type": "code",
   "execution_count": 10,
   "id": "a504ec87",
   "metadata": {},
   "outputs": [],
   "source": [
    "# Prepare CSV once\n",
    "with open(metrics_path, 'w', newline='') as f:\n",
    "    writer = csv.DictWriter(f, fieldnames=['label','stream','layer','width','mse','rmse','fvu'])\n",
    "    writer.writeheader()"
   ]
  },
  {
   "cell_type": "code",
   "execution_count": 11,
   "id": "9169c05f",
   "metadata": {},
   "outputs": [
    {
     "name": "stdout",
     "output_type": "stream",
     "text": [
      "Processing label=future, stream=residual, layer=14, width=8x\n"
     ]
    },
    {
     "name": "stderr",
     "output_type": "stream",
     "text": [
      "/auto/brno2/home/ariuka/tense/venv/lib/python3.10/site-packages/sae_lens/sae.py:151: UserWarning: \n",
      "This SAE has non-empty model_from_pretrained_kwargs. \n",
      "For optimal performance, load the model like so:\n",
      "model = HookedSAETransformer.from_pretrained_no_processing(..., **cfg.model_from_pretrained_kwargs)\n",
      "  warnings.warn(\n"
     ]
    },
    {
     "name": "stdout",
     "output_type": "stream",
     "text": [
      "Processing label=future, stream=residual, layer=15, width=8x\n"
     ]
    },
    {
     "name": "stderr",
     "output_type": "stream",
     "text": [
      "/auto/brno2/home/ariuka/tense/venv/lib/python3.10/site-packages/sae_lens/sae.py:151: UserWarning: \n",
      "This SAE has non-empty model_from_pretrained_kwargs. \n",
      "For optimal performance, load the model like so:\n",
      "model = HookedSAETransformer.from_pretrained_no_processing(..., **cfg.model_from_pretrained_kwargs)\n",
      "  warnings.warn(\n"
     ]
    },
    {
     "name": "stdout",
     "output_type": "stream",
     "text": [
      "Processing label=future, stream=residual, layer=16, width=8x\n"
     ]
    },
    {
     "name": "stderr",
     "output_type": "stream",
     "text": [
      "/auto/brno2/home/ariuka/tense/venv/lib/python3.10/site-packages/sae_lens/sae.py:151: UserWarning: \n",
      "This SAE has non-empty model_from_pretrained_kwargs. \n",
      "For optimal performance, load the model like so:\n",
      "model = HookedSAETransformer.from_pretrained_no_processing(..., **cfg.model_from_pretrained_kwargs)\n",
      "  warnings.warn(\n"
     ]
    },
    {
     "name": "stdout",
     "output_type": "stream",
     "text": [
      "Processing label=future, stream=residual, layer=17, width=8x\n"
     ]
    },
    {
     "name": "stderr",
     "output_type": "stream",
     "text": [
      "/auto/brno2/home/ariuka/tense/venv/lib/python3.10/site-packages/sae_lens/sae.py:151: UserWarning: \n",
      "This SAE has non-empty model_from_pretrained_kwargs. \n",
      "For optimal performance, load the model like so:\n",
      "model = HookedSAETransformer.from_pretrained_no_processing(..., **cfg.model_from_pretrained_kwargs)\n",
      "  warnings.warn(\n"
     ]
    },
    {
     "name": "stdout",
     "output_type": "stream",
     "text": [
      "Processing label=future, stream=residual, layer=18, width=8x\n"
     ]
    },
    {
     "name": "stderr",
     "output_type": "stream",
     "text": [
      "/auto/brno2/home/ariuka/tense/venv/lib/python3.10/site-packages/sae_lens/sae.py:151: UserWarning: \n",
      "This SAE has non-empty model_from_pretrained_kwargs. \n",
      "For optimal performance, load the model like so:\n",
      "model = HookedSAETransformer.from_pretrained_no_processing(..., **cfg.model_from_pretrained_kwargs)\n",
      "  warnings.warn(\n"
     ]
    },
    {
     "name": "stdout",
     "output_type": "stream",
     "text": [
      "Processing label=future, stream=residual, layer=19, width=8x\n"
     ]
    },
    {
     "name": "stderr",
     "output_type": "stream",
     "text": [
      "/auto/brno2/home/ariuka/tense/venv/lib/python3.10/site-packages/sae_lens/sae.py:151: UserWarning: \n",
      "This SAE has non-empty model_from_pretrained_kwargs. \n",
      "For optimal performance, load the model like so:\n",
      "model = HookedSAETransformer.from_pretrained_no_processing(..., **cfg.model_from_pretrained_kwargs)\n",
      "  warnings.warn(\n"
     ]
    },
    {
     "name": "stdout",
     "output_type": "stream",
     "text": [
      "Processing label=future, stream=residual, layer=20, width=8x\n"
     ]
    },
    {
     "name": "stderr",
     "output_type": "stream",
     "text": [
      "/auto/brno2/home/ariuka/tense/venv/lib/python3.10/site-packages/sae_lens/sae.py:151: UserWarning: \n",
      "This SAE has non-empty model_from_pretrained_kwargs. \n",
      "For optimal performance, load the model like so:\n",
      "model = HookedSAETransformer.from_pretrained_no_processing(..., **cfg.model_from_pretrained_kwargs)\n",
      "  warnings.warn(\n"
     ]
    },
    {
     "name": "stdout",
     "output_type": "stream",
     "text": [
      "Processing label=future, stream=residual, layer=21, width=8x\n"
     ]
    },
    {
     "name": "stderr",
     "output_type": "stream",
     "text": [
      "/auto/brno2/home/ariuka/tense/venv/lib/python3.10/site-packages/sae_lens/sae.py:151: UserWarning: \n",
      "This SAE has non-empty model_from_pretrained_kwargs. \n",
      "For optimal performance, load the model like so:\n",
      "model = HookedSAETransformer.from_pretrained_no_processing(..., **cfg.model_from_pretrained_kwargs)\n",
      "  warnings.warn(\n"
     ]
    },
    {
     "name": "stdout",
     "output_type": "stream",
     "text": [
      "Processing label=future, stream=residual, layer=22, width=8x\n"
     ]
    },
    {
     "name": "stderr",
     "output_type": "stream",
     "text": [
      "/auto/brno2/home/ariuka/tense/venv/lib/python3.10/site-packages/sae_lens/sae.py:151: UserWarning: \n",
      "This SAE has non-empty model_from_pretrained_kwargs. \n",
      "For optimal performance, load the model like so:\n",
      "model = HookedSAETransformer.from_pretrained_no_processing(..., **cfg.model_from_pretrained_kwargs)\n",
      "  warnings.warn(\n"
     ]
    },
    {
     "name": "stdout",
     "output_type": "stream",
     "text": [
      "Processing label=future, stream=residual, layer=23, width=8x\n"
     ]
    },
    {
     "name": "stderr",
     "output_type": "stream",
     "text": [
      "/auto/brno2/home/ariuka/tense/venv/lib/python3.10/site-packages/sae_lens/sae.py:151: UserWarning: \n",
      "This SAE has non-empty model_from_pretrained_kwargs. \n",
      "For optimal performance, load the model like so:\n",
      "model = HookedSAETransformer.from_pretrained_no_processing(..., **cfg.model_from_pretrained_kwargs)\n",
      "  warnings.warn(\n"
     ]
    },
    {
     "name": "stdout",
     "output_type": "stream",
     "text": [
      "Processing label=future, stream=residual, layer=24, width=8x\n"
     ]
    },
    {
     "name": "stderr",
     "output_type": "stream",
     "text": [
      "/auto/brno2/home/ariuka/tense/venv/lib/python3.10/site-packages/sae_lens/sae.py:151: UserWarning: \n",
      "This SAE has non-empty model_from_pretrained_kwargs. \n",
      "For optimal performance, load the model like so:\n",
      "model = HookedSAETransformer.from_pretrained_no_processing(..., **cfg.model_from_pretrained_kwargs)\n",
      "  warnings.warn(\n"
     ]
    },
    {
     "name": "stdout",
     "output_type": "stream",
     "text": [
      "Processing label=future, stream=residual, layer=25, width=8x\n"
     ]
    },
    {
     "name": "stderr",
     "output_type": "stream",
     "text": [
      "/auto/brno2/home/ariuka/tense/venv/lib/python3.10/site-packages/sae_lens/sae.py:151: UserWarning: \n",
      "This SAE has non-empty model_from_pretrained_kwargs. \n",
      "For optimal performance, load the model like so:\n",
      "model = HookedSAETransformer.from_pretrained_no_processing(..., **cfg.model_from_pretrained_kwargs)\n",
      "  warnings.warn(\n"
     ]
    },
    {
     "name": "stdout",
     "output_type": "stream",
     "text": [
      "Processing label=future, stream=residual, layer=26, width=8x\n"
     ]
    },
    {
     "name": "stderr",
     "output_type": "stream",
     "text": [
      "/auto/brno2/home/ariuka/tense/venv/lib/python3.10/site-packages/sae_lens/sae.py:151: UserWarning: \n",
      "This SAE has non-empty model_from_pretrained_kwargs. \n",
      "For optimal performance, load the model like so:\n",
      "model = HookedSAETransformer.from_pretrained_no_processing(..., **cfg.model_from_pretrained_kwargs)\n",
      "  warnings.warn(\n"
     ]
    },
    {
     "name": "stdout",
     "output_type": "stream",
     "text": [
      "Processing label=future, stream=residual, layer=27, width=8x\n"
     ]
    },
    {
     "name": "stderr",
     "output_type": "stream",
     "text": [
      "/auto/brno2/home/ariuka/tense/venv/lib/python3.10/site-packages/sae_lens/sae.py:151: UserWarning: \n",
      "This SAE has non-empty model_from_pretrained_kwargs. \n",
      "For optimal performance, load the model like so:\n",
      "model = HookedSAETransformer.from_pretrained_no_processing(..., **cfg.model_from_pretrained_kwargs)\n",
      "  warnings.warn(\n"
     ]
    },
    {
     "name": "stdout",
     "output_type": "stream",
     "text": [
      "Processing label=future, stream=residual, layer=28, width=8x\n"
     ]
    },
    {
     "name": "stderr",
     "output_type": "stream",
     "text": [
      "/auto/brno2/home/ariuka/tense/venv/lib/python3.10/site-packages/sae_lens/sae.py:151: UserWarning: \n",
      "This SAE has non-empty model_from_pretrained_kwargs. \n",
      "For optimal performance, load the model like so:\n",
      "model = HookedSAETransformer.from_pretrained_no_processing(..., **cfg.model_from_pretrained_kwargs)\n",
      "  warnings.warn(\n"
     ]
    },
    {
     "name": "stdout",
     "output_type": "stream",
     "text": [
      "Processing label=future, stream=residual, layer=29, width=8x\n"
     ]
    },
    {
     "name": "stderr",
     "output_type": "stream",
     "text": [
      "/auto/brno2/home/ariuka/tense/venv/lib/python3.10/site-packages/sae_lens/sae.py:151: UserWarning: \n",
      "This SAE has non-empty model_from_pretrained_kwargs. \n",
      "For optimal performance, load the model like so:\n",
      "model = HookedSAETransformer.from_pretrained_no_processing(..., **cfg.model_from_pretrained_kwargs)\n",
      "  warnings.warn(\n"
     ]
    },
    {
     "name": "stdout",
     "output_type": "stream",
     "text": [
      "Processing label=future, stream=residual, layer=30, width=8x\n"
     ]
    },
    {
     "name": "stderr",
     "output_type": "stream",
     "text": [
      "/auto/brno2/home/ariuka/tense/venv/lib/python3.10/site-packages/sae_lens/sae.py:151: UserWarning: \n",
      "This SAE has non-empty model_from_pretrained_kwargs. \n",
      "For optimal performance, load the model like so:\n",
      "model = HookedSAETransformer.from_pretrained_no_processing(..., **cfg.model_from_pretrained_kwargs)\n",
      "  warnings.warn(\n"
     ]
    },
    {
     "name": "stdout",
     "output_type": "stream",
     "text": [
      "Processing label=future, stream=residual, layer=31, width=8x\n"
     ]
    },
    {
     "name": "stderr",
     "output_type": "stream",
     "text": [
      "/auto/brno2/home/ariuka/tense/venv/lib/python3.10/site-packages/sae_lens/sae.py:151: UserWarning: \n",
      "This SAE has non-empty model_from_pretrained_kwargs. \n",
      "For optimal performance, load the model like so:\n",
      "model = HookedSAETransformer.from_pretrained_no_processing(..., **cfg.model_from_pretrained_kwargs)\n",
      "  warnings.warn(\n"
     ]
    },
    {
     "name": "stdout",
     "output_type": "stream",
     "text": [
      "Processing label=future, stream=mlp, layer=14, width=8x\n"
     ]
    },
    {
     "name": "stderr",
     "output_type": "stream",
     "text": [
      "/auto/brno2/home/ariuka/tense/venv/lib/python3.10/site-packages/sae_lens/sae.py:151: UserWarning: \n",
      "This SAE has non-empty model_from_pretrained_kwargs. \n",
      "For optimal performance, load the model like so:\n",
      "model = HookedSAETransformer.from_pretrained_no_processing(..., **cfg.model_from_pretrained_kwargs)\n",
      "  warnings.warn(\n"
     ]
    },
    {
     "name": "stdout",
     "output_type": "stream",
     "text": [
      "Processing label=future, stream=mlp, layer=15, width=8x\n"
     ]
    },
    {
     "name": "stderr",
     "output_type": "stream",
     "text": [
      "/auto/brno2/home/ariuka/tense/venv/lib/python3.10/site-packages/sae_lens/sae.py:151: UserWarning: \n",
      "This SAE has non-empty model_from_pretrained_kwargs. \n",
      "For optimal performance, load the model like so:\n",
      "model = HookedSAETransformer.from_pretrained_no_processing(..., **cfg.model_from_pretrained_kwargs)\n",
      "  warnings.warn(\n"
     ]
    },
    {
     "name": "stdout",
     "output_type": "stream",
     "text": [
      "Processing label=future, stream=mlp, layer=16, width=8x\n"
     ]
    },
    {
     "name": "stderr",
     "output_type": "stream",
     "text": [
      "/auto/brno2/home/ariuka/tense/venv/lib/python3.10/site-packages/sae_lens/sae.py:151: UserWarning: \n",
      "This SAE has non-empty model_from_pretrained_kwargs. \n",
      "For optimal performance, load the model like so:\n",
      "model = HookedSAETransformer.from_pretrained_no_processing(..., **cfg.model_from_pretrained_kwargs)\n",
      "  warnings.warn(\n"
     ]
    },
    {
     "name": "stdout",
     "output_type": "stream",
     "text": [
      "Processing label=future, stream=mlp, layer=17, width=8x\n"
     ]
    },
    {
     "name": "stderr",
     "output_type": "stream",
     "text": [
      "/auto/brno2/home/ariuka/tense/venv/lib/python3.10/site-packages/sae_lens/sae.py:151: UserWarning: \n",
      "This SAE has non-empty model_from_pretrained_kwargs. \n",
      "For optimal performance, load the model like so:\n",
      "model = HookedSAETransformer.from_pretrained_no_processing(..., **cfg.model_from_pretrained_kwargs)\n",
      "  warnings.warn(\n"
     ]
    },
    {
     "name": "stdout",
     "output_type": "stream",
     "text": [
      "Processing label=future, stream=mlp, layer=18, width=8x\n"
     ]
    },
    {
     "name": "stderr",
     "output_type": "stream",
     "text": [
      "/auto/brno2/home/ariuka/tense/venv/lib/python3.10/site-packages/sae_lens/sae.py:151: UserWarning: \n",
      "This SAE has non-empty model_from_pretrained_kwargs. \n",
      "For optimal performance, load the model like so:\n",
      "model = HookedSAETransformer.from_pretrained_no_processing(..., **cfg.model_from_pretrained_kwargs)\n",
      "  warnings.warn(\n"
     ]
    },
    {
     "name": "stdout",
     "output_type": "stream",
     "text": [
      "Processing label=future, stream=mlp, layer=19, width=8x\n"
     ]
    },
    {
     "name": "stderr",
     "output_type": "stream",
     "text": [
      "/auto/brno2/home/ariuka/tense/venv/lib/python3.10/site-packages/sae_lens/sae.py:151: UserWarning: \n",
      "This SAE has non-empty model_from_pretrained_kwargs. \n",
      "For optimal performance, load the model like so:\n",
      "model = HookedSAETransformer.from_pretrained_no_processing(..., **cfg.model_from_pretrained_kwargs)\n",
      "  warnings.warn(\n"
     ]
    },
    {
     "name": "stdout",
     "output_type": "stream",
     "text": [
      "Processing label=future, stream=mlp, layer=20, width=8x\n"
     ]
    },
    {
     "name": "stderr",
     "output_type": "stream",
     "text": [
      "/auto/brno2/home/ariuka/tense/venv/lib/python3.10/site-packages/sae_lens/sae.py:151: UserWarning: \n",
      "This SAE has non-empty model_from_pretrained_kwargs. \n",
      "For optimal performance, load the model like so:\n",
      "model = HookedSAETransformer.from_pretrained_no_processing(..., **cfg.model_from_pretrained_kwargs)\n",
      "  warnings.warn(\n"
     ]
    },
    {
     "name": "stdout",
     "output_type": "stream",
     "text": [
      "Processing label=future, stream=mlp, layer=21, width=8x\n"
     ]
    },
    {
     "name": "stderr",
     "output_type": "stream",
     "text": [
      "/auto/brno2/home/ariuka/tense/venv/lib/python3.10/site-packages/sae_lens/sae.py:151: UserWarning: \n",
      "This SAE has non-empty model_from_pretrained_kwargs. \n",
      "For optimal performance, load the model like so:\n",
      "model = HookedSAETransformer.from_pretrained_no_processing(..., **cfg.model_from_pretrained_kwargs)\n",
      "  warnings.warn(\n"
     ]
    },
    {
     "name": "stdout",
     "output_type": "stream",
     "text": [
      "Processing label=future, stream=mlp, layer=22, width=8x\n"
     ]
    },
    {
     "name": "stderr",
     "output_type": "stream",
     "text": [
      "/auto/brno2/home/ariuka/tense/venv/lib/python3.10/site-packages/sae_lens/sae.py:151: UserWarning: \n",
      "This SAE has non-empty model_from_pretrained_kwargs. \n",
      "For optimal performance, load the model like so:\n",
      "model = HookedSAETransformer.from_pretrained_no_processing(..., **cfg.model_from_pretrained_kwargs)\n",
      "  warnings.warn(\n"
     ]
    },
    {
     "name": "stdout",
     "output_type": "stream",
     "text": [
      "Processing label=future, stream=mlp, layer=23, width=8x\n"
     ]
    },
    {
     "name": "stderr",
     "output_type": "stream",
     "text": [
      "/auto/brno2/home/ariuka/tense/venv/lib/python3.10/site-packages/sae_lens/sae.py:151: UserWarning: \n",
      "This SAE has non-empty model_from_pretrained_kwargs. \n",
      "For optimal performance, load the model like so:\n",
      "model = HookedSAETransformer.from_pretrained_no_processing(..., **cfg.model_from_pretrained_kwargs)\n",
      "  warnings.warn(\n"
     ]
    },
    {
     "name": "stdout",
     "output_type": "stream",
     "text": [
      "Processing label=future, stream=mlp, layer=24, width=8x\n"
     ]
    },
    {
     "name": "stderr",
     "output_type": "stream",
     "text": [
      "/auto/brno2/home/ariuka/tense/venv/lib/python3.10/site-packages/sae_lens/sae.py:151: UserWarning: \n",
      "This SAE has non-empty model_from_pretrained_kwargs. \n",
      "For optimal performance, load the model like so:\n",
      "model = HookedSAETransformer.from_pretrained_no_processing(..., **cfg.model_from_pretrained_kwargs)\n",
      "  warnings.warn(\n"
     ]
    },
    {
     "name": "stdout",
     "output_type": "stream",
     "text": [
      "Processing label=future, stream=mlp, layer=25, width=8x\n"
     ]
    },
    {
     "name": "stderr",
     "output_type": "stream",
     "text": [
      "/auto/brno2/home/ariuka/tense/venv/lib/python3.10/site-packages/sae_lens/sae.py:151: UserWarning: \n",
      "This SAE has non-empty model_from_pretrained_kwargs. \n",
      "For optimal performance, load the model like so:\n",
      "model = HookedSAETransformer.from_pretrained_no_processing(..., **cfg.model_from_pretrained_kwargs)\n",
      "  warnings.warn(\n"
     ]
    },
    {
     "name": "stdout",
     "output_type": "stream",
     "text": [
      "Processing label=future, stream=mlp, layer=26, width=8x\n"
     ]
    },
    {
     "name": "stderr",
     "output_type": "stream",
     "text": [
      "/auto/brno2/home/ariuka/tense/venv/lib/python3.10/site-packages/sae_lens/sae.py:151: UserWarning: \n",
      "This SAE has non-empty model_from_pretrained_kwargs. \n",
      "For optimal performance, load the model like so:\n",
      "model = HookedSAETransformer.from_pretrained_no_processing(..., **cfg.model_from_pretrained_kwargs)\n",
      "  warnings.warn(\n"
     ]
    },
    {
     "name": "stdout",
     "output_type": "stream",
     "text": [
      "Processing label=future, stream=mlp, layer=27, width=8x\n"
     ]
    },
    {
     "name": "stderr",
     "output_type": "stream",
     "text": [
      "/auto/brno2/home/ariuka/tense/venv/lib/python3.10/site-packages/sae_lens/sae.py:151: UserWarning: \n",
      "This SAE has non-empty model_from_pretrained_kwargs. \n",
      "For optimal performance, load the model like so:\n",
      "model = HookedSAETransformer.from_pretrained_no_processing(..., **cfg.model_from_pretrained_kwargs)\n",
      "  warnings.warn(\n"
     ]
    },
    {
     "name": "stdout",
     "output_type": "stream",
     "text": [
      "Processing label=future, stream=mlp, layer=28, width=8x\n"
     ]
    },
    {
     "name": "stderr",
     "output_type": "stream",
     "text": [
      "/auto/brno2/home/ariuka/tense/venv/lib/python3.10/site-packages/sae_lens/sae.py:151: UserWarning: \n",
      "This SAE has non-empty model_from_pretrained_kwargs. \n",
      "For optimal performance, load the model like so:\n",
      "model = HookedSAETransformer.from_pretrained_no_processing(..., **cfg.model_from_pretrained_kwargs)\n",
      "  warnings.warn(\n"
     ]
    },
    {
     "name": "stdout",
     "output_type": "stream",
     "text": [
      "Processing label=future, stream=mlp, layer=29, width=8x\n"
     ]
    },
    {
     "name": "stderr",
     "output_type": "stream",
     "text": [
      "/auto/brno2/home/ariuka/tense/venv/lib/python3.10/site-packages/sae_lens/sae.py:151: UserWarning: \n",
      "This SAE has non-empty model_from_pretrained_kwargs. \n",
      "For optimal performance, load the model like so:\n",
      "model = HookedSAETransformer.from_pretrained_no_processing(..., **cfg.model_from_pretrained_kwargs)\n",
      "  warnings.warn(\n"
     ]
    },
    {
     "name": "stdout",
     "output_type": "stream",
     "text": [
      "Processing label=future, stream=mlp, layer=30, width=8x\n"
     ]
    },
    {
     "name": "stderr",
     "output_type": "stream",
     "text": [
      "/auto/brno2/home/ariuka/tense/venv/lib/python3.10/site-packages/sae_lens/sae.py:151: UserWarning: \n",
      "This SAE has non-empty model_from_pretrained_kwargs. \n",
      "For optimal performance, load the model like so:\n",
      "model = HookedSAETransformer.from_pretrained_no_processing(..., **cfg.model_from_pretrained_kwargs)\n",
      "  warnings.warn(\n"
     ]
    },
    {
     "name": "stdout",
     "output_type": "stream",
     "text": [
      "Processing label=future, stream=mlp, layer=31, width=8x\n"
     ]
    },
    {
     "name": "stderr",
     "output_type": "stream",
     "text": [
      "/auto/brno2/home/ariuka/tense/venv/lib/python3.10/site-packages/sae_lens/sae.py:151: UserWarning: \n",
      "This SAE has non-empty model_from_pretrained_kwargs. \n",
      "For optimal performance, load the model like so:\n",
      "model = HookedSAETransformer.from_pretrained_no_processing(..., **cfg.model_from_pretrained_kwargs)\n",
      "  warnings.warn(\n"
     ]
    },
    {
     "name": "stdout",
     "output_type": "stream",
     "text": [
      "Processing label=future, stream=attention, layer=14, width=8x\n"
     ]
    },
    {
     "name": "stderr",
     "output_type": "stream",
     "text": [
      "/auto/brno2/home/ariuka/tense/venv/lib/python3.10/site-packages/sae_lens/sae.py:151: UserWarning: \n",
      "This SAE has non-empty model_from_pretrained_kwargs. \n",
      "For optimal performance, load the model like so:\n",
      "model = HookedSAETransformer.from_pretrained_no_processing(..., **cfg.model_from_pretrained_kwargs)\n",
      "  warnings.warn(\n"
     ]
    },
    {
     "name": "stdout",
     "output_type": "stream",
     "text": [
      "Processing label=future, stream=attention, layer=15, width=8x\n"
     ]
    },
    {
     "name": "stderr",
     "output_type": "stream",
     "text": [
      "/auto/brno2/home/ariuka/tense/venv/lib/python3.10/site-packages/sae_lens/sae.py:151: UserWarning: \n",
      "This SAE has non-empty model_from_pretrained_kwargs. \n",
      "For optimal performance, load the model like so:\n",
      "model = HookedSAETransformer.from_pretrained_no_processing(..., **cfg.model_from_pretrained_kwargs)\n",
      "  warnings.warn(\n"
     ]
    },
    {
     "name": "stdout",
     "output_type": "stream",
     "text": [
      "Processing label=future, stream=attention, layer=16, width=8x\n"
     ]
    },
    {
     "name": "stderr",
     "output_type": "stream",
     "text": [
      "/auto/brno2/home/ariuka/tense/venv/lib/python3.10/site-packages/sae_lens/sae.py:151: UserWarning: \n",
      "This SAE has non-empty model_from_pretrained_kwargs. \n",
      "For optimal performance, load the model like so:\n",
      "model = HookedSAETransformer.from_pretrained_no_processing(..., **cfg.model_from_pretrained_kwargs)\n",
      "  warnings.warn(\n"
     ]
    },
    {
     "name": "stdout",
     "output_type": "stream",
     "text": [
      "Processing label=future, stream=attention, layer=17, width=8x\n"
     ]
    },
    {
     "name": "stderr",
     "output_type": "stream",
     "text": [
      "/auto/brno2/home/ariuka/tense/venv/lib/python3.10/site-packages/sae_lens/sae.py:151: UserWarning: \n",
      "This SAE has non-empty model_from_pretrained_kwargs. \n",
      "For optimal performance, load the model like so:\n",
      "model = HookedSAETransformer.from_pretrained_no_processing(..., **cfg.model_from_pretrained_kwargs)\n",
      "  warnings.warn(\n"
     ]
    },
    {
     "name": "stdout",
     "output_type": "stream",
     "text": [
      "Processing label=future, stream=attention, layer=18, width=8x\n"
     ]
    },
    {
     "name": "stderr",
     "output_type": "stream",
     "text": [
      "/auto/brno2/home/ariuka/tense/venv/lib/python3.10/site-packages/sae_lens/sae.py:151: UserWarning: \n",
      "This SAE has non-empty model_from_pretrained_kwargs. \n",
      "For optimal performance, load the model like so:\n",
      "model = HookedSAETransformer.from_pretrained_no_processing(..., **cfg.model_from_pretrained_kwargs)\n",
      "  warnings.warn(\n"
     ]
    },
    {
     "name": "stdout",
     "output_type": "stream",
     "text": [
      "Processing label=future, stream=attention, layer=19, width=8x\n"
     ]
    },
    {
     "name": "stderr",
     "output_type": "stream",
     "text": [
      "/auto/brno2/home/ariuka/tense/venv/lib/python3.10/site-packages/sae_lens/sae.py:151: UserWarning: \n",
      "This SAE has non-empty model_from_pretrained_kwargs. \n",
      "For optimal performance, load the model like so:\n",
      "model = HookedSAETransformer.from_pretrained_no_processing(..., **cfg.model_from_pretrained_kwargs)\n",
      "  warnings.warn(\n"
     ]
    },
    {
     "name": "stdout",
     "output_type": "stream",
     "text": [
      "Processing label=future, stream=attention, layer=20, width=8x\n"
     ]
    },
    {
     "name": "stderr",
     "output_type": "stream",
     "text": [
      "/auto/brno2/home/ariuka/tense/venv/lib/python3.10/site-packages/sae_lens/sae.py:151: UserWarning: \n",
      "This SAE has non-empty model_from_pretrained_kwargs. \n",
      "For optimal performance, load the model like so:\n",
      "model = HookedSAETransformer.from_pretrained_no_processing(..., **cfg.model_from_pretrained_kwargs)\n",
      "  warnings.warn(\n"
     ]
    },
    {
     "name": "stdout",
     "output_type": "stream",
     "text": [
      "Processing label=future, stream=attention, layer=21, width=8x\n"
     ]
    },
    {
     "name": "stderr",
     "output_type": "stream",
     "text": [
      "/auto/brno2/home/ariuka/tense/venv/lib/python3.10/site-packages/sae_lens/sae.py:151: UserWarning: \n",
      "This SAE has non-empty model_from_pretrained_kwargs. \n",
      "For optimal performance, load the model like so:\n",
      "model = HookedSAETransformer.from_pretrained_no_processing(..., **cfg.model_from_pretrained_kwargs)\n",
      "  warnings.warn(\n"
     ]
    },
    {
     "name": "stdout",
     "output_type": "stream",
     "text": [
      "Processing label=future, stream=attention, layer=22, width=8x\n"
     ]
    },
    {
     "name": "stderr",
     "output_type": "stream",
     "text": [
      "/auto/brno2/home/ariuka/tense/venv/lib/python3.10/site-packages/sae_lens/sae.py:151: UserWarning: \n",
      "This SAE has non-empty model_from_pretrained_kwargs. \n",
      "For optimal performance, load the model like so:\n",
      "model = HookedSAETransformer.from_pretrained_no_processing(..., **cfg.model_from_pretrained_kwargs)\n",
      "  warnings.warn(\n"
     ]
    },
    {
     "name": "stdout",
     "output_type": "stream",
     "text": [
      "Processing label=future, stream=attention, layer=23, width=8x\n"
     ]
    },
    {
     "name": "stderr",
     "output_type": "stream",
     "text": [
      "/auto/brno2/home/ariuka/tense/venv/lib/python3.10/site-packages/sae_lens/sae.py:151: UserWarning: \n",
      "This SAE has non-empty model_from_pretrained_kwargs. \n",
      "For optimal performance, load the model like so:\n",
      "model = HookedSAETransformer.from_pretrained_no_processing(..., **cfg.model_from_pretrained_kwargs)\n",
      "  warnings.warn(\n"
     ]
    },
    {
     "name": "stdout",
     "output_type": "stream",
     "text": [
      "Processing label=future, stream=attention, layer=24, width=8x\n"
     ]
    },
    {
     "name": "stderr",
     "output_type": "stream",
     "text": [
      "/auto/brno2/home/ariuka/tense/venv/lib/python3.10/site-packages/sae_lens/sae.py:151: UserWarning: \n",
      "This SAE has non-empty model_from_pretrained_kwargs. \n",
      "For optimal performance, load the model like so:\n",
      "model = HookedSAETransformer.from_pretrained_no_processing(..., **cfg.model_from_pretrained_kwargs)\n",
      "  warnings.warn(\n"
     ]
    },
    {
     "name": "stdout",
     "output_type": "stream",
     "text": [
      "Processing label=future, stream=attention, layer=25, width=8x\n"
     ]
    },
    {
     "name": "stderr",
     "output_type": "stream",
     "text": [
      "/auto/brno2/home/ariuka/tense/venv/lib/python3.10/site-packages/sae_lens/sae.py:151: UserWarning: \n",
      "This SAE has non-empty model_from_pretrained_kwargs. \n",
      "For optimal performance, load the model like so:\n",
      "model = HookedSAETransformer.from_pretrained_no_processing(..., **cfg.model_from_pretrained_kwargs)\n",
      "  warnings.warn(\n"
     ]
    },
    {
     "name": "stdout",
     "output_type": "stream",
     "text": [
      "Processing label=future, stream=attention, layer=26, width=8x\n"
     ]
    },
    {
     "name": "stderr",
     "output_type": "stream",
     "text": [
      "/auto/brno2/home/ariuka/tense/venv/lib/python3.10/site-packages/sae_lens/sae.py:151: UserWarning: \n",
      "This SAE has non-empty model_from_pretrained_kwargs. \n",
      "For optimal performance, load the model like so:\n",
      "model = HookedSAETransformer.from_pretrained_no_processing(..., **cfg.model_from_pretrained_kwargs)\n",
      "  warnings.warn(\n"
     ]
    },
    {
     "name": "stdout",
     "output_type": "stream",
     "text": [
      "Processing label=future, stream=attention, layer=27, width=8x\n"
     ]
    },
    {
     "name": "stderr",
     "output_type": "stream",
     "text": [
      "/auto/brno2/home/ariuka/tense/venv/lib/python3.10/site-packages/sae_lens/sae.py:151: UserWarning: \n",
      "This SAE has non-empty model_from_pretrained_kwargs. \n",
      "For optimal performance, load the model like so:\n",
      "model = HookedSAETransformer.from_pretrained_no_processing(..., **cfg.model_from_pretrained_kwargs)\n",
      "  warnings.warn(\n"
     ]
    },
    {
     "name": "stdout",
     "output_type": "stream",
     "text": [
      "Processing label=future, stream=attention, layer=28, width=8x\n"
     ]
    },
    {
     "name": "stderr",
     "output_type": "stream",
     "text": [
      "/auto/brno2/home/ariuka/tense/venv/lib/python3.10/site-packages/sae_lens/sae.py:151: UserWarning: \n",
      "This SAE has non-empty model_from_pretrained_kwargs. \n",
      "For optimal performance, load the model like so:\n",
      "model = HookedSAETransformer.from_pretrained_no_processing(..., **cfg.model_from_pretrained_kwargs)\n",
      "  warnings.warn(\n"
     ]
    },
    {
     "name": "stdout",
     "output_type": "stream",
     "text": [
      "Processing label=future, stream=attention, layer=29, width=8x\n"
     ]
    },
    {
     "name": "stderr",
     "output_type": "stream",
     "text": [
      "/auto/brno2/home/ariuka/tense/venv/lib/python3.10/site-packages/sae_lens/sae.py:151: UserWarning: \n",
      "This SAE has non-empty model_from_pretrained_kwargs. \n",
      "For optimal performance, load the model like so:\n",
      "model = HookedSAETransformer.from_pretrained_no_processing(..., **cfg.model_from_pretrained_kwargs)\n",
      "  warnings.warn(\n"
     ]
    },
    {
     "name": "stdout",
     "output_type": "stream",
     "text": [
      "Processing label=future, stream=attention, layer=30, width=8x\n"
     ]
    },
    {
     "name": "stderr",
     "output_type": "stream",
     "text": [
      "/auto/brno2/home/ariuka/tense/venv/lib/python3.10/site-packages/sae_lens/sae.py:151: UserWarning: \n",
      "This SAE has non-empty model_from_pretrained_kwargs. \n",
      "For optimal performance, load the model like so:\n",
      "model = HookedSAETransformer.from_pretrained_no_processing(..., **cfg.model_from_pretrained_kwargs)\n",
      "  warnings.warn(\n"
     ]
    },
    {
     "name": "stdout",
     "output_type": "stream",
     "text": [
      "Processing label=future, stream=attention, layer=31, width=8x\n"
     ]
    },
    {
     "name": "stderr",
     "output_type": "stream",
     "text": [
      "/auto/brno2/home/ariuka/tense/venv/lib/python3.10/site-packages/sae_lens/sae.py:151: UserWarning: \n",
      "This SAE has non-empty model_from_pretrained_kwargs. \n",
      "For optimal performance, load the model like so:\n",
      "model = HookedSAETransformer.from_pretrained_no_processing(..., **cfg.model_from_pretrained_kwargs)\n",
      "  warnings.warn(\n"
     ]
    }
   ],
   "source": [
    "for label in labels:\n",
    "    for stream_name, stream_code in streams.items():\n",
    "        for layer in layers:\n",
    "            for width in widths:\n",
    "                print(f\"Processing label={label}, stream={stream_name}, layer={layer}, width={width}\")\n",
    "                try:\n",
    "                    embeddings, metadata = load_embeddings(label, layer, stream_name)\n",
    "                except FileNotFoundError:\n",
    "                    print(f\"Missing file for {label}, {stream_name}, layer {layer}\")\n",
    "                    continue\n",
    "\n",
    "                # Load pretrained SAE\n",
    "                sae_id = f\"blocks.{layer}.hook_{stream_code}\"\n",
    "                sae, cfg_dict, sparsity = SAE.from_pretrained(\n",
    "                    release=\"Yusser/multilingual_llama3.1-8B_saes\",\n",
    "                    sae_id=sae_id,\n",
    "                    device=device\n",
    "                )\n",
    "                sae.eval()\n",
    "\n",
    "                # Encode and decode\n",
    "                with torch.no_grad():\n",
    "                    feature_acts = sae.encode(embeddings.to(device))\n",
    "                    sae_out = sae.decode(feature_acts)\n",
    "\n",
    "                # Move to CPU for metric computation\n",
    "                x = embeddings.to(torch.float32).cpu()\n",
    "                x_hat = sae_out.to(torch.float32).cpu()\n",
    "\n",
    "                # Compute MSE per example\n",
    "                mse_per_example = (x_hat - x).pow(2).mean(dim=[1,2])\n",
    "                mse = mse_per_example.mean().item()\n",
    "                rmse = mse ** 0.5\n",
    "\n",
    "                # Compute FVU\n",
    "                # total variance (MSE of predicting mean)\n",
    "                mean_act = x.mean(dim=[0,1], keepdim=True)\n",
    "                mse_mean = (x - mean_act).pow(2).mean().item()\n",
    "                fvu = mse / mse_mean if mse_mean > 0 else float('nan')\n",
    "                \n",
    "                # write CSV row\n",
    "                with open(metrics_path,\"a\",newline=\"\") as f:\n",
    "                    csv.DictWriter(f,fieldnames=['label','stream','layer','width','mse','rmse','fvu']\n",
    "                                ).writerow({\n",
    "                        'label':label,'stream':stream_name,\n",
    "                        'layer':layer,'width':width,\n",
    "                        'mse':mse,'rmse':rmse,'fvu':fvu\n",
    "                    })"
   ]
  },
  {
   "cell_type": "markdown",
   "id": "5d96e59d",
   "metadata": {},
   "source": [
    "#### Visualization"
   ]
  },
  {
   "cell_type": "code",
   "execution_count": 7,
   "id": "32963f02",
   "metadata": {},
   "outputs": [],
   "source": [
    "# Load data\n",
    "df_ls = pd.read_csv('./sae_error_metrics_llamascope.csv')\n",
    "df_tr = pd.read_csv('./sae_error_metrics_translation.csv')\n",
    "\n",
    "# Tag source\n",
    "df_ls['sae'] = 'llamascope'\n",
    "df_tr['sae'] = 'translation'\n",
    "\n",
    "# Combine\n",
    "df = pd.concat([df_ls, df_tr], ignore_index=True)"
   ]
  },
  {
   "cell_type": "code",
   "execution_count": 9,
   "id": "de333cd4",
   "metadata": {},
   "outputs": [
    {
     "data": {
      "image/png": "[encoded data removed]",
      "text/plain": [
       "<Figure size 1200x500 with 2 Axes>"
      ]
     },
     "metadata": {},
     "output_type": "display_data"
    }
   ],
   "source": [
    "# Plot RMSE for each SAE side by side\n",
    "fig, axes = plt.subplots(1, 2, figsize=(12, 5), sharex=True, sharey=True)\n",
    "\n",
    "for ax, sae in zip(axes, ['llamascope', 'translation']):\n",
    "    sub = df[df['sae'] == sae]\n",
    "    sns.lineplot(\n",
    "        data=sub,\n",
    "        x='layer',\n",
    "        y='mse',\n",
    "        hue='stream',\n",
    "        style='label',\n",
    "        palette='Paired',\n",
    "        markers=True,\n",
    "        dashes=False,\n",
    "        legend=(sae=='translation'),\n",
    "        ax=ax\n",
    "    )\n",
    "    sae_name = sae if sae == 'llamascope' else 'multilingual'\n",
    "    ax.set_title(f\"{sae_name} SAEs' reconstruction error\")\n",
    "    ax.set_xlabel(\"Hidden layer index of target model\")\n",
    "    ax.set_ylabel(\"Mean squared error (MSE)\")\n",
    "    ax.grid(True, linestyle='--', alpha=0.5)\n",
    "    ax.xaxis.set_major_locator(MaxNLocator(integer=True))\n",
    "\n",
    "# Move legend outside right of first plot\n",
    "# axes[0].legend(bbox_to_anchor=(1.05, 1), loc='upper left')\n",
    "plt.tight_layout()\n",
    "plt.show()"
   ]
  },
  {
   "cell_type": "code",
   "execution_count": null,
   "id": "5a0d159b",
   "metadata": {},
   "outputs": [],
   "source": [
    "{'past': 0.13, 'present': 0.09, 'future': 0.14}"
   ]
  }
 ],
 "metadata": {
  "kernelspec": {
   "display_name": "Python (tense_venv)",
   "language": "python",
   "name": "tense_venv"
  },
  "language_info": {
   "codemirror_mode": {
    "name": "ipython",
    "version": 3
   },
   "file_extension": ".py",
   "mimetype": "text/x-python",
   "name": "python",
   "nbconvert_exporter": "python",
   "pygments_lexer": "ipython3",
   "version": "3.10.4"
  }
 },
 "nbformat": 4,
 "nbformat_minor": 5
}
